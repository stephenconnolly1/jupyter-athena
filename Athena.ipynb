{
 "cells": [
  {
   "cell_type": "markdown",
   "metadata": {},
   "source": [
    "## Query Athena using ODBC driver\n",
    "This example shows how to create a basic SQL query against an existing table defined in Athena, which consists of data imported from a simple two column CSV file.\n",
    "\n",
    "The query runs against a predefined database called `sampledb` and a table called `users`\n",
    "\n",
    "Sensitive or ephemeral configuration data used by the notebook, such as credentials, MFA device ID or target bucket encryption keys is passed to the host Docker container using environment variables. \n",
    "\n",
    "It is possible to use standard IAM authentication credentials or temporary credentials created using `sts.assumerole()`, depending on whether the `AWS_ROLE_ARN` defines a role to be assumed. If assuming a role, specify the MFA device if the role requires an MFA token code.\n",
    "\n",
    "If the S3 bucket where results are stored requires a KMS key to read and write data, you must provide the name of the key. \n",
    "\n",
    "Results are output to a pandas dataframe for onward processing.\n",
    "\n",
    "Don't forget to run `Cell > All Output > Clear` before you check in code changes to git to avoid including ephemera. "
   ]
  },
  {
   "cell_type": "code",
   "execution_count": null,
   "metadata": {},
   "outputs": [],
   "source": [
    "import athena_utils\n",
    "\n",
    "validate_inputs()\n",
    "DSN = get_DSN()\n",
    "clear_output()"
   ]
  },
  {
   "cell_type": "markdown",
   "metadata": {},
   "source": [
    "## Execute the query against Athena and write the results to a dataframe"
   ]
  },
  {
   "cell_type": "code",
   "execution_count": null,
   "metadata": {},
   "outputs": [],
   "source": [
    "# Specifying the ODBC driver, server name, database, etc. directly\n",
    "import pandas as pd\n",
    "cnxn = pyodbc.connect(DSN)\n",
    "query = 'SELECT * FROM \"sampledb\".\"users\" limit 10'\n",
    "df = pd.read_sql_query(query, cnxn)\n",
    "\n",
    "df"
   ]
  }
 ],
 "metadata": {
  "kernelspec": {
   "display_name": "Python 3",
   "language": "python",
   "name": "python3"
  },
  "language_info": {
   "codemirror_mode": {
    "name": "ipython",
    "version": 3
   },
   "file_extension": ".py",
   "mimetype": "text/x-python",
   "name": "python",
   "nbconvert_exporter": "python",
   "pygments_lexer": "ipython3",
   "version": "3.6.5"
  }
 },
 "nbformat": 4,
 "nbformat_minor": 2
}
