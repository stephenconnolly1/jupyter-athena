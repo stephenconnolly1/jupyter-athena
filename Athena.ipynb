{
 "cells": [
  {
   "cell_type": "markdown",
   "metadata": {},
   "source": [
    "## Query Athena using ODBC driver\n",
    "This example shows how to create a basic SQL query against an existing table defined in Athena, which consists of data imported from a simple two column CSV file.\n",
    "\n",
    "The query runs against a predefined database called `sampledb` and a table called `users`\n",
    "\n",
    "Sensitive and other configuration data used by the notebook, such as credentials, is passed to the host Docker container using environment variables. Other data is defined in the notebook, such as the S3 bucket location where results data is written.\n",
    "\n",
    "It is possible to use standard IAM authentication credentials or temporary credentials created using `sts.assumerole()`, depending on whether the `AWS_ROLE_ARN` defines a role to be assumed.\n",
    "\n",
    "Results are output to a pandas dataframe."
   ]
  },
  {
   "cell_type": "code",
   "execution_count": null,
   "metadata": {},
   "outputs": [],
   "source": [
    "import boto3\n",
    "import pyodbc\n",
    "import os\n",
    "import pandas as pd\n",
    "\n",
    "def role_arn_to_session(**args):\n",
    "    \"\"\"\n",
    "    Usage :\n",
    "        session = role_arn_to_session(\n",
    "            RoleArn='arn:aws:iam::012345678901:role/example-role',\n",
    "            RoleSessionName='ExampleSessionName')\n",
    "        client = session.client('sqs')\n",
    "    \"\"\"\n",
    "    client = boto3.client('sts',\n",
    "        aws_access_key_id=os.environ['AWS_ACCESS_KEY_ID'],\n",
    "        aws_secret_access_key=os.environ['AWS_SECRET_ACCESS_KEY'] \n",
    "    )\n",
    "    \n",
    "    response = client.assume_role(**args)\n",
    "    aws_access_key_id=response['Credentials']['AccessKeyId']\n",
    "    aws_secret_access_key=response['Credentials']['SecretAccessKey']\n",
    "    aws_session_token=response['Credentials']['SessionToken']\n",
    "    \n",
    "    return { \"aws_access_key_id\" : aws_access_key_id , \"aws_secret_access_key\" : aws_secret_access_key, \"aws_session_token\" : aws_session_token }\n",
    "\n",
    "aws_kms_key=os.environ['AWS_S3_KMS_KEY'] \n",
    "aws_access_key_id=os.environ['AWS_ACCESS_KEY_ID']\n",
    "aws_secret_access_key=os.environ['AWS_SECRET_ACCESS_KEY'] \n",
    "aws_region = os.environ['AWS_DEFAULT_REGION']\n",
    "\n",
    "if os.environ.get('AWS_ROLE_ARN') != None :\n",
    "    # Get the MFA token from your device\n",
    "    mfa_token_code = input()\n",
    "    temp_creds = role_arn_to_session(    \n",
    "        RoleArn=os.environ['AWS_ROLE_ARN'],\n",
    "        RoleSessionName='ExampleSessionName',\n",
    "        SerialNumber=os.environ['AWS_MFA_SERIAL_NUMBER'],\n",
    "        TokenCode=mfa_token_code,\n",
    "    #    DurationSeconds=28800 # 8 hours\n",
    "    )\n",
    "    DSNTemplate=\"Driver=Simba Athena ODBC Driver 64-bit;AwsRegion={};S3OutputLocation=s3://pedanticism-athena-output/output/;S3OutputEncOption=SSE_KMS;S3OutputEncKMSKey={};AuthenticationType=IAM Credentials;UID={};PWD={};SessionToken={}\"\n",
    "    DSN = DSNTemplate.format(aws_region,aws_kms_key,temp_creds[\"aws_access_key_id\"], temp_creds[\"aws_secret_access_key\"], temp_creds[\"aws_session_token\"])\n",
    "\n",
    "else:\n",
    "    DSNTemplate=\"Driver=Simba Athena ODBC Driver 64-bit;AwsRegion={};S3OutputLocation=s3://pedanticism-athena-output/output/;S3OutputEncOption=SSE_KMS;S3OutputEncKMSKey={};AuthenticationType=IAM Credentials;UID={};PWD={}\" # \";SessionToken={}\"\n",
    "    DSN = DSNTemplate.format(aws_region,aws_kms_key, aws_access_key_id, aws_secret_access_key) \n"
   ]
  },
  {
   "cell_type": "markdown",
   "metadata": {},
   "source": [
    "## Execute the query against Athena and write the results to a dataframe"
   ]
  },
  {
   "cell_type": "code",
   "execution_count": null,
   "metadata": {},
   "outputs": [],
   "source": [
    "# Specifying the ODBC driver, server name, database, etc. directly\n",
    "import pandas as pd\n",
    "cnxn = pyodbc.connect(DSN)\n",
    "query = 'SELECT * FROM \"sampledb\".\"users\" limit 10'\n",
    "df = pd.read_sql_query(query, cnxn)\n",
    "\n",
    "df"
   ]
  }
 ],
 "metadata": {
  "kernelspec": {
   "display_name": "Python 3",
   "language": "python",
   "name": "python3"
  },
  "language_info": {
   "codemirror_mode": {
    "name": "ipython",
    "version": 3
   },
   "file_extension": ".py",
   "mimetype": "text/x-python",
   "name": "python",
   "nbconvert_exporter": "python",
   "pygments_lexer": "ipython3",
   "version": "3.6.5"
  }
 },
 "nbformat": 4,
 "nbformat_minor": 2
}
